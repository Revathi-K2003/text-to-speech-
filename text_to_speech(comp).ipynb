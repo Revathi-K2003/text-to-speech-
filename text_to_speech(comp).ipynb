{
 "cells": [
  {
   "cell_type": "code",
   "execution_count": 1,
   "id": "6d0f7380",
   "metadata": {},
   "outputs": [],
   "source": [
    "import tkinter as tk\n",
    "from tkinter import *\n",
    "from tkinter import filedialog\n",
    "from tkinter.ttk import Combobox\n",
    "import pyttsx3\n",
    "import os\n",
    "from gtts import gTTS\n",
    "from playsound import playsound"
   ]
  },
  {
   "cell_type": "code",
   "execution_count": 2,
   "id": "04663532",
   "metadata": {},
   "outputs": [],
   "source": [
    "root=Tk()\n",
    "root.title(\"TEXT TO SPEECH CONVERTER\")\n",
    "root.geometry(\"1000x580+200+80\")\n",
    "root.resizable(True,True)\n",
    "root.configure(bg=\"#F7AC40\")\n",
    "#root.mainloop()"
   ]
  },
  {
   "cell_type": "code",
   "execution_count": 3,
   "id": "ad17e4c0",
   "metadata": {},
   "outputs": [],
   "source": [
    "tts=pyttsx3.init()\n",
    "def speaknow():\n",
    "    text=text_box.get(1.0,END)\n",
    "    gender=gender_box.get()\n",
    "    speed=speed_box.get()\n",
    "    voices=tts.getProperty('voices')\n",
    "    \n",
    "    def setvoice():\n",
    "        if(gender=='Male'):\n",
    "            tts.setProperty('voice',voices[0].id)\n",
    "            tts.say(text)\n",
    "            tts.runAndWait()\n",
    "        else:\n",
    "            tts.setProperty('voice',voices[1].id)\n",
    "            tts.say(text)\n",
    "            tts.runAndWait()\n",
    "    if(text):\n",
    "        if(speed=='Fast'):\n",
    "            tts.setProperty('rate',250)\n",
    "            setvoice()\n",
    "        elif(speed=='Medium'):\n",
    "            tts.setProperty('rate',150)\n",
    "            setvoice()\n",
    "        else:\n",
    "            tts.setProperty('rate',60)\n",
    "            setvoice()   "
   ]
  },
  {
   "cell_type": "code",
   "execution_count": 4,
   "id": "3871d22d",
   "metadata": {},
   "outputs": [],
   "source": [
    "from tkinter import *\n",
    "#sim_logo = PhotoImage(file=\"C:/Users/samsung/Pictures/Screenshots/download.png\")\n",
    "#Label(root, image=sim_logo, bg=\"#F7AC40\").place(x=300, y=100)\n",
    "#root.mainloop()\n"
   ]
  },
  {
   "cell_type": "code",
   "execution_count": 5,
   "id": "c62f0093",
   "metadata": {},
   "outputs": [],
   "source": [
    "logo_image=PhotoImage(file=\"C:/Users/samsung/Pictures/Screenshots/download.png\")\n",
    "root.iconphoto(False,logo_image)\n",
    "#root.mainloop()"
   ]
  },
  {
   "cell_type": "code",
   "execution_count": 6,
   "id": "4f2463ae",
   "metadata": {},
   "outputs": [],
   "source": [
    "upper_frame=Frame(root,bg=\"#14A7DD\",width=1600,height=230)\n",
    "upper_frame.place(x=0,y=0)\n",
    "picture=PhotoImage(file=\"C:/Users/samsung/Pictures/Screenshots/download.png\")\n",
    "Label(upper_frame,image=picture,bg=\"#14A7DD\").place(x=50,y=20)\n",
    "#root.mainloop()"
   ]
  },
  {
   "cell_type": "code",
   "execution_count": 7,
   "id": "d8a6d3fd",
   "metadata": {},
   "outputs": [],
   "source": [
    "Label(upper_frame,text=\"TEXT TO SPEECH CONVERTER\",font=\"TimesNewroman 30 bold\",bg=\"#14A7DD\",fg='white').place(x=350,y=50)\n",
    "#root.mainloop()"
   ]
  },
  {
   "cell_type": "code",
   "execution_count": 8,
   "id": "4670b221",
   "metadata": {},
   "outputs": [],
   "source": [
    "text_box=Text(root,font=\"calibri 20\",bg=\"white\",relief=GROOVE,wrap=WORD,bd=0)\n",
    "text_box.place(x=0,y=230,width=500,height=50)\n",
    "#root.mainloop()"
   ]
  },
  {
   "cell_type": "code",
   "execution_count": 9,
   "id": "ad09e613",
   "metadata": {
    "scrolled": true
   },
   "outputs": [],
   "source": [
    "gender_box=Combobox(root,values=['Male','Female'],font=\"Robote 12\",state='r',width=15)\n",
    "gender_box.place(x=100,y=350)\n",
    "gender_box.set('Male')\n",
    "#root.mainloop()"
   ]
  },
  {
   "cell_type": "code",
   "execution_count": 10,
   "id": "3c665015",
   "metadata": {},
   "outputs": [],
   "source": [
    "speed_box=Combobox(root,values=['Fast','Medium','Slow'],font=\"Robote 12\",state='r',width=15)\n",
    "speed_box.place(x=300,y=350)\n",
    "speed_box.set('Medium')\n",
    "#root.mainloop()"
   ]
  },
  {
   "cell_type": "code",
   "execution_count": 11,
   "id": "07cd3527",
   "metadata": {},
   "outputs": [],
   "source": [
    "Label(root,text=\"select voice\",font='TimesNewroman 20 bold',bg=\"#F7AC40\",fg=\"white\").place(x=100,y=300)\n",
    "Label(root,text=\"select speed\",font='TimesNewroman 20 bold',bg=\"#F7AC40\",fg=\"white\").place(x=300,y=300)\n",
    "#root.mainloop()"
   ]
  },
  {
   "cell_type": "code",
   "execution_count": 12,
   "id": "e1af974f",
   "metadata": {},
   "outputs": [],
   "source": [
    "play_button=PhotoImage(file=\"C:/Users/samsung/Pictures/Screenshots/download (1).png\")\n",
    "play_btn=Button(root,text=\"play\",compound=LEFT,image=play_button,bg='white',width=130,font=\"arial 14 bold\",borderwidth='0.1c',command=speaknow)\n",
    "play_btn.place(x=250,y=400)\n",
    "root.mainloop()"
   ]
  },
  {
   "cell_type": "code",
   "execution_count": null,
   "id": "abaff8cd",
   "metadata": {},
   "outputs": [],
   "source": []
  }
 ],
 "metadata": {
  "kernelspec": {
   "display_name": "Python 3 (ipykernel)",
   "language": "python",
   "name": "python3"
  },
  "language_info": {
   "codemirror_mode": {
    "name": "ipython",
    "version": 3
   },
   "file_extension": ".py",
   "mimetype": "text/x-python",
   "name": "python",
   "nbconvert_exporter": "python",
   "pygments_lexer": "ipython3",
   "version": "3.9.13"
  }
 },
 "nbformat": 4,
 "nbformat_minor": 5
}
